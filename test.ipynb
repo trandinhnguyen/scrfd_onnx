{
 "cells": [
  {
   "cell_type": "code",
   "execution_count": 2,
   "metadata": {},
   "outputs": [],
   "source": [
    "import numpy as np\n",
    "from scrfd import SCRFD"
   ]
  },
  {
   "cell_type": "code",
   "execution_count": 3,
   "metadata": {},
   "outputs": [
    {
     "name": "stderr",
     "output_type": "stream",
     "text": [
      "/home/htsc/nguyentd/face_detection/scrfd/venv/lib/python3.10/site-packages/onnxruntime/capi/onnxruntime_inference_collection.py:115: UserWarning: Specified provider 'CUDAExecutionProvider' is not in available provider names.Available providers: 'AzureExecutionProvider, CPUExecutionProvider'\n",
      "  warnings.warn(\n"
     ]
    }
   ],
   "source": [
    "model_path = \"./models/scrfd.onnx\"\n",
    "model = SCRFD(model_path)"
   ]
  },
  {
   "cell_type": "code",
   "execution_count": 21,
   "metadata": {},
   "outputs": [
    {
     "name": "stdout",
     "output_type": "stream",
     "text": [
      "[[ 0.  0.]\n",
      " [ 8.  0.]\n",
      " [16.  0.]\n",
      " [24.  0.]\n",
      " [32.  0.]]\n",
      "[[ 0.  0.]\n",
      " [ 0.  0.]\n",
      " [ 8.  0.]\n",
      " [ 8.  0.]\n",
      " [16.  0.]]\n",
      "(12800, 2)\n"
     ]
    }
   ],
   "source": [
    "height = 640 // 8\n",
    "width = 640 // 8\n",
    "\n",
    "anchor_centers = np.stack(\n",
    "    np.mgrid[:height, :width][::-1],  # type: ignore\n",
    "    axis=-1,\n",
    ").astype(np.float32)\n",
    "\n",
    "anchor_centers = (anchor_centers * 8).reshape((-1, 2))\n",
    "print(anchor_centers[:5])\n",
    "anchor_centers = np.stack([anchor_centers] * 2, axis=1).reshape((-1, 2))\n",
    "print(anchor_centers[:5])\n",
    "print(anchor_centers.shape)"
   ]
  },
  {
   "cell_type": "code",
   "execution_count": 23,
   "metadata": {},
   "outputs": [
    {
     "name": "stdout",
     "output_type": "stream",
     "text": [
      "[[ 0  0]\n",
      " [ 8  0]\n",
      " [16  0]\n",
      " [24  0]\n",
      " [32  0]]\n",
      "[[ 0  0]\n",
      " [ 0  0]\n",
      " [ 8  0]\n",
      " [ 8  0]\n",
      " [16  0]]\n",
      "(12800, 2)\n"
     ]
    }
   ],
   "source": [
    "feature_height = 640 // 8\n",
    "feature_width = 640 // 8\n",
    "\n",
    "anchor_centers = np.mgrid[:feature_height, :feature_width]  # 0 to h, 0 to w\n",
    "anchor_centers = anchor_centers[::-1]  # 0 to w, 0 to h\n",
    "anchor_centers = anchor_centers.transpose(1, 2, 0)  # shape (h, w, 2)\n",
    "anchor_centers = anchor_centers.reshape(-1, 2)  # shape (h*w, 2)\n",
    "anchor_centers *= 8\n",
    "\n",
    "print(anchor_centers[:5])\n",
    "anchor_centers = np.hstack([anchor_centers] * 2).reshape((-1, 2))\n",
    "print(anchor_centers[:5])\n",
    "print(anchor_centers.shape)"
   ]
  },
  {
   "cell_type": "code",
   "execution_count": 24,
   "metadata": {},
   "outputs": [
    {
     "data": {
      "text/plain": [
       "array([5, 5, 5, 5, 5, 5, 6, 7, 8, 9])"
      ]
     },
     "execution_count": 24,
     "metadata": {},
     "output_type": "execute_result"
    }
   ],
   "source": [
    "np.maximum(5, np.arange(10))"
   ]
  },
  {
   "cell_type": "code",
   "execution_count": null,
   "metadata": {},
   "outputs": [],
   "source": []
  }
 ],
 "metadata": {
  "kernelspec": {
   "display_name": "venv",
   "language": "python",
   "name": "python3"
  },
  "language_info": {
   "codemirror_mode": {
    "name": "ipython",
    "version": 3
   },
   "file_extension": ".py",
   "mimetype": "text/x-python",
   "name": "python",
   "nbconvert_exporter": "python",
   "pygments_lexer": "ipython3",
   "version": "3.10.12"
  }
 },
 "nbformat": 4,
 "nbformat_minor": 2
}
