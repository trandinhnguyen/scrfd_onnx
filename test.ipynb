{
 "cells": [
  {
   "cell_type": "code",
   "execution_count": 10,
   "metadata": {},
   "outputs": [],
   "source": [
    "import os\n",
    "import json\n",
    "import cv2\n",
    "import numpy as np\n",
    "import onnx\n",
    "import onnxruntime\n",
    "import onnx_graphsurgeon as gs"
   ]
  },
  {
   "cell_type": "code",
   "execution_count": 2,
   "metadata": {},
   "outputs": [],
   "source": [
    "session = onnxruntime.InferenceSession(\"models/us_lprnet_baseline18_deployable.onnx\")"
   ]
  },
  {
   "cell_type": "code",
   "execution_count": 13,
   "metadata": {},
   "outputs": [
    {
     "name": "stdout",
     "output_type": "stream",
     "text": [
      "['N', 3, 48, 96]\n",
      "tf_op_layer_ArgMax\n",
      "tensor(int32)\n",
      "['N', 24]\n",
      "tf_op_layer_Max\n",
      "tensor(float)\n",
      "['N', 24]\n"
     ]
    }
   ],
   "source": [
    "print(session.get_inputs()[0].shape)\n",
    "for output in session.get_outputs():\n",
    "    print(output.name)\n",
    "    print(output.type)\n",
    "    print(output.shape)"
   ]
  },
  {
   "cell_type": "code",
   "execution_count": 39,
   "metadata": {},
   "outputs": [],
   "source": [
    "img = cv2.imread(\"images/liciense_plate.png\", 1)\n",
    "img = cv2.cvtColor(img, cv2.COLOR_BGR2RGB)\n",
    "img = img[:img.shape[0] // 2]\n",
    "img = cv2.resize(img, (96, 48))\n",
    "cv2.imwrite(\"debug.jpg\", img)\n",
    "img = img.astype(np.float32)\n",
    "img = img / 255\n",
    "img = img.transpose(2, 0, 1)\n",
    "img = np.expand_dims(img, 0)"
   ]
  },
  {
   "cell_type": "code",
   "execution_count": 40,
   "metadata": {},
   "outputs": [],
   "source": [
    "outputs = session.run(None, {session.get_inputs()[0].name: img})"
   ]
  },
  {
   "cell_type": "code",
   "execution_count": 41,
   "metadata": {},
   "outputs": [
    {
     "data": {
      "text/plain": [
       "[array([[35, 35, 35, 35, 35, 35, 35, 35, 35, 35,  7, 35, 27,  9, 35, 35,\n",
       "         35, 35, 35, 35, 35, 35, 35, 23]], dtype=int32),\n",
       " array([[0.99999905, 1.        , 1.        , 1.        , 1.        ,\n",
       "         1.        , 0.99999964, 0.9999994 , 0.99999917, 0.97942334,\n",
       "         0.48410153, 0.99961555, 0.43506563, 0.5636416 , 0.9772284 ,\n",
       "         0.9999893 , 0.9999994 , 0.9999994 , 0.99999845, 0.99999714,\n",
       "         0.99999774, 0.9999976 , 0.99960524, 0.32400212]], dtype=float32)]"
      ]
     },
     "execution_count": 41,
     "metadata": {},
     "output_type": "execute_result"
    }
   ],
   "source": [
    "outputs"
   ]
  },
  {
   "cell_type": "code",
   "execution_count": 42,
   "metadata": {},
   "outputs": [
    {
     "name": "stdout",
     "output_type": "stream",
     "text": [
      "Attributes: 0.038462907\n",
      "Plate String: 7S9N\n"
     ]
    }
   ],
   "source": [
    "def parse_custom_nvplate(output_layers_info, network_info):\n",
    "    \"\"\"Parse the NVPlate output to extract attributes and string.\"\"\"\n",
    "    with open(\"dict.txt\", \"r\", encoding=\"utf-8\") as f:\n",
    "        dict_table = [line.strip() for line in f if line.strip()]\n",
    "\n",
    "    output_str_buffer = None\n",
    "    output_conf_buffer = None\n",
    "    attr_string = \"\"\n",
    "\n",
    "    seq_len = network_info[\"width\"] // 4\n",
    "\n",
    "    for layer_info in output_layers_info:\n",
    "        if layer_info[\"dataType\"] == \"float32\":\n",
    "            output_conf_buffer = np.array(layer_info[\"buffer\"], dtype=np.float32)\n",
    "        elif layer_info[\"dataType\"] == \"int32\":\n",
    "            output_str_buffer = np.array(layer_info[\"buffer\"], dtype=np.int32)\n",
    "\n",
    "    str_idxes = []\n",
    "    prev = -1\n",
    "    bank_softmax_max = []\n",
    "\n",
    "    for seq_id in range(seq_len):\n",
    "        curr_data = output_str_buffer[seq_id]\n",
    "\n",
    "        if curr_data < 0 or curr_data >= len(dict_table):\n",
    "            continue\n",
    "\n",
    "        if seq_id == 0 or curr_data != prev:\n",
    "            str_idxes.append(curr_data)\n",
    "            if curr_data != len(dict_table):  # Not padding\n",
    "                bank_softmax_max.append(output_conf_buffer[seq_id])\n",
    "\n",
    "        prev = curr_data\n",
    "\n",
    "    for idx in str_idxes:\n",
    "        if idx != len(dict_table):\n",
    "            attr_string += dict_table[idx]\n",
    "\n",
    "    attr_confidence = np.prod(bank_softmax_max)\n",
    "\n",
    "    return True, attr_confidence, attr_string\n",
    "\n",
    "\n",
    "output_layers_info = [\n",
    "    {\n",
    "        \"dataType\": \"int32\",\n",
    "        \"buffer\": outputs[0][0],\n",
    "    },\n",
    "    {\n",
    "        \"dataType\": \"float32\",\n",
    "        \"buffer\": outputs[1][0],\n",
    "    },\n",
    "]\n",
    "network_info = {\"width\": 24 * 4}\n",
    "\n",
    "success, attributes, plate_string = parse_custom_nvplate(\n",
    "    output_layers_info, network_info\n",
    ")\n",
    "\n",
    "if success:\n",
    "    print(\"Attributes:\", attributes)\n",
    "    print(\"Plate String:\", plate_string)\n",
    "else:\n",
    "    print(\"Parsing failed.\")"
   ]
  },
  {
   "cell_type": "code",
   "execution_count": 1,
   "metadata": {},
   "outputs": [],
   "source": [
    "import cv2\n",
    "import numpy as np\n",
    "from scrfd import SCRFD"
   ]
  },
  {
   "cell_type": "code",
   "execution_count": 2,
   "metadata": {},
   "outputs": [
    {
     "name": "stdout",
     "output_type": "stream",
     "text": [
      "Warming up ...\n",
      "Forwarding time: 0.02313709259033203\n",
      "Forwarding time: 0.016562461853027344\n"
     ]
    }
   ],
   "source": [
    "img_path = \"images/face_img.jpg\"\n",
    "face_detector = SCRFD(\"models/scrfd.onnx\")\n",
    "boxes, kpss, scores = face_detector.detect(img_path)\n",
    "boxes = boxes[0].astype(int)\n",
    "kpss = kpss[0].astype(int)"
   ]
  },
  {
   "cell_type": "code",
   "execution_count": 4,
   "metadata": {},
   "outputs": [
    {
     "data": {
      "text/plain": [
       "True"
      ]
     },
     "execution_count": 4,
     "metadata": {},
     "output_type": "execute_result"
    }
   ],
   "source": [
    "img = cv2.imread(img_path, 1)\n",
    "# img = cv2.cvtColor(img, cv2.COLOR_BGR2RGB)\n",
    "img = cv2.circle(img, kpss[0].tolist(), radius=10, color=(0, 0, 255), thickness=-1)\n",
    "img = cv2.circle(img, kpss[1].tolist(), radius=10, color=(0, 0, 255), thickness=-1)\n",
    "cv2.imwrite(\"debug.jpg\", img)"
   ]
  },
  {
   "cell_type": "code",
   "execution_count": null,
   "metadata": {},
   "outputs": [],
   "source": [
    "left_eye, right_eye = kpss[:2]\n",
    "if left_eye[1] > right_eye[1]:  # mắt trái thấp hơn mắt phải\n",
    "    point_A = (x_right_eye, y_left_eye)\n",
    "    # Ảnh phải xoay theo chiều kim đồng hộ clockwise direction\n",
    "    direction = -1\n",
    "else:\n",
    "    point_A = (x_left_eye, y_right_eye)\n",
    "    # Ảnh cần xoay ngược chiều kim đồng hồ counter clockwise direction\n",
    "    direction = 1"
   ]
  },
  {
   "cell_type": "code",
   "execution_count": null,
   "metadata": {},
   "outputs": [],
   "source": []
  }
 ],
 "metadata": {
  "kernelspec": {
   "display_name": "venv",
   "language": "python",
   "name": "python3"
  },
  "language_info": {
   "codemirror_mode": {
    "name": "ipython",
    "version": 3
   },
   "file_extension": ".py",
   "mimetype": "text/x-python",
   "name": "python",
   "nbconvert_exporter": "python",
   "pygments_lexer": "ipython3",
   "version": "3.10.12"
  }
 },
 "nbformat": 4,
 "nbformat_minor": 2
}
